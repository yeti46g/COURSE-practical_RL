{
 "cells": [
  {
   "cell_type": "code",
   "execution_count": 17,
   "metadata": {},
   "outputs": [
    {
     "name": "stdout",
     "output_type": "stream",
     "text": [
      "env: DISPLAY=:1\n"
     ]
    },
    {
     "name": "stderr",
     "output_type": "stream",
     "text": [
      "'bash' is not recognized as an internal or external command,\n",
      "operable program or batch file.\n"
     ]
    }
   ],
   "source": [
    "import os\n",
    "if os.environ.get(\"DISPLAY\") is not str or len(os.environ.get(\"DISPLAY\"))==0:\n",
    "    !bash ../xvfb start\n",
    "    %env DISPLAY=:1"
   ]
  },
  {
   "cell_type": "code",
   "execution_count": 18,
   "metadata": {},
   "outputs": [],
   "source": [
    "import gym\n",
    "import numpy as np\n",
    "import pandas as pd\n",
    "import matplotlib.pyplot as plt\n",
    "%matplotlib inline"
   ]
  },
  {
   "cell_type": "code",
   "execution_count": 19,
   "metadata": {},
   "outputs": [
    {
     "name": "stderr",
     "output_type": "stream",
     "text": [
      "c:\\users\\yingg\\desktop\\myproject0\\lib\\site-packages\\tensorflow\\python\\client\\session.py:1702: UserWarning: An interactive session is already active. This can cause out-of-memory errors in some cases. You must explicitly call `InteractiveSession.close()` to release resources held by the other session(s).\n",
      "  warnings.warn('An interactive session is already active. This can '\n"
     ]
    }
   ],
   "source": [
    "import tensorflow as tf\n",
    "import keras\n",
    "import keras.layers as L\n",
    "tf.reset_default_graph()\n",
    "sess = tf.InteractiveSession()\n",
    "keras.backend.set_session(sess)"
   ]
  },
  {
   "cell_type": "code",
   "execution_count": 20,
   "metadata": {},
   "outputs": [
    {
     "data": {
      "text/plain": [
       "<matplotlib.image.AxesImage at 0x24d343c2a58>"
      ]
     },
     "execution_count": 20,
     "metadata": {},
     "output_type": "execute_result"
    },
    {
     "data": {
      "image/png": "[encoded data removed]",
      "text/plain": [
       "<Figure size 432x288 with 1 Axes>"
      ]
     },
     "metadata": {
      "needs_background": "light"
     },
     "output_type": "display_data"
    }
   ],
   "source": [
    "env = gym.make('CartPole-v0').env\n",
    "env.reset()\n",
    "n_actions = env.action_space.n\n",
    "state_dim = env.observation_space.shape\n",
    "plt.imshow(env.render('rgb_array'))"
   ]
  },
  {
   "cell_type": "code",
   "execution_count": 21,
   "metadata": {},
   "outputs": [],
   "source": [
    "network = keras.models.Sequential()\n",
    "network.add(L.InputLayer(state_dim))\n",
    "network.add(L.Dense(100,activation = 'relu'))\n",
    "network.add(L.Dense(100,activation = 'relu'))\n",
    "network.add(L.Dense(n_actions))"
   ]
  },
  {
   "cell_type": "code",
   "execution_count": 22,
   "metadata": {},
   "outputs": [],
   "source": [
    "def get_action(state, epsilon=0):\n",
    "    q_values = network.predict(state[None])[0]\n",
    "    choice = np.random.random() > epsilon\n",
    "    if choice:\n",
    "        chosen_action = np.argmax(q_values)\n",
    "    else: \n",
    "        chosen_action = np.random.choice(n_actions)\n",
    "    return chosen_action"
   ]
  },
  {
   "cell_type": "code",
   "execution_count": 23,
   "metadata": {},
   "outputs": [
    {
     "name": "stdout",
     "output_type": "stream",
     "text": [
      "e=0.0 tests passed\n",
      "e=0.1 tests passed\n",
      "e=0.5 tests passed\n",
      "e=1.0 tests passed\n"
     ]
    }
   ],
   "source": [
    "assert network.output_shape == (None, n_actions)\n",
    "assert network.layers[-1].activation == keras.activations.linear\n",
    "\n",
    "s = env.reset()\n",
    "assert np.shape(get_action(s)) == ()\n",
    "for eps in [0.,0.1,0.5,1.0]:\n",
    "    state_frequencies = np.bincount([get_action(s, epsilon=eps) for i in range(10000)], minlength = n_actions)\n",
    "    best_action = state_frequencies.argmax()\n",
    "    assert abs(state_frequencies[best_action] - 10000* ( 1- eps + eps / n_actions)) < 200\n",
    "    for other_action in range(n_actions):\n",
    "        if other_action != best_action:\n",
    "            assert abs(state_frequencies[other_action] - 10000 * (eps / n_actions)) < 200\n",
    "    print('e=%.1f tests passed'%eps)"
   ]
  },
  {
   "cell_type": "code",
   "execution_count": 24,
   "metadata": {},
   "outputs": [],
   "source": [
    "states_ph = tf.placeholder('float32', shape = (None,) + state_dim)\n",
    "actions_ph = tf.placeholder('int32', shape = [None])\n",
    "rewards_ph = tf.placeholder('float32', shape=[None])\n",
    "next_states_ph = tf.placeholder('float32', shape=(None,) + state_dim)\n",
    "is_done_ph = tf.placeholder('bool', shape = [None])"
   ]
  },
  {
   "cell_type": "code",
   "execution_count": 25,
   "metadata": {},
   "outputs": [],
   "source": [
    "predicted_qvalues = network(states_ph)\n",
    "predicted_qvalues_for_actions = tf.reduce_sum(predicted_qvalues * tf.one_hot(actions_ph, n_actions), axis = 1)"
   ]
  },
  {
   "cell_type": "code",
   "execution_count": 26,
   "metadata": {},
   "outputs": [],
   "source": [
    "gamma = 0.99\n",
    "predicted_next_qvalues = network(next_states_ph)\n",
    "next_state_values = tf.reduce_max(predicted_next_qvalues, axis = 1)\n",
    "target_qvalues_for_actions = rewards_ph + gamma * next_state_values\n",
    "target_qvalues_for_actions = tf.where(is_done_ph, rewards_ph, target_qvalues_for_actions)"
   ]
  },
  {
   "cell_type": "code",
   "execution_count": 27,
   "metadata": {},
   "outputs": [],
   "source": [
    "loss = (predicted_qvalues_for_actions - tf.stop_gradient(target_qvalues_for_actions))**2\n",
    "loss = tf.reduce_mean(loss)\n",
    "train_step = tf.train.AdamOptimizer(1e-4).minimize(loss)"
   ]
  },
  {
   "cell_type": "code",
   "execution_count": 28,
   "metadata": {},
   "outputs": [],
   "source": [
    "assert tf.gradients(loss, [predicted_qvalues_for_actions])[0] is not None, \"make sure you update q-values for chosen actions and not just all actions\"\n",
    "assert tf.gradients(loss, [predicted_next_qvalues])[0] is None, \"make sure you don't propagate gradient w.r.t. Q_(s',a')\"\n",
    "assert predicted_next_qvalues.shape.ndims == 2, \"make sure you predicted q-values for all actions in next state\"\n",
    "assert next_state_values.shape.ndims == 1, \"make sure you computed V(s') as maximum over just the actions axis and not all axes\"\n",
    "assert target_qvalues_for_actions.shape.ndims == 1, \"there's something wrong with target q-values, they must be a vector\""
   ]
  },
  {
   "cell_type": "code",
   "execution_count": 35,
   "metadata": {},
   "outputs": [],
   "source": [
    "def generate_session(t_max=1000, epsilon=0, train=False):\n",
    "    total_reward = 0\n",
    "    s = env.reset()\n",
    "    for t in range(t_max):\n",
    "        a = get_action(s, epsilon=epsilon)\n",
    "        next_s, r, done, _ = env.step(a)\n",
    "        if train:\n",
    "            sess.run(train_step,{\n",
    "                states_ph: [s], actions_ph :[a], rewards_ph: [r],\n",
    "                next_states_ph:[next_s], is_done_ph: [done]\n",
    "            })\n",
    "            \n",
    "        total_reward += r\n",
    "        s = next_s\n",
    "        if done: break\n",
    "    return total_reward"
   ]
  },
  {
   "cell_type": "code",
   "execution_count": 36,
   "metadata": {},
   "outputs": [],
   "source": [
    "epsilon = 0.5"
   ]
  },
  {
   "cell_type": "code",
   "execution_count": 37,
   "metadata": {
    "scrolled": true
   },
   "outputs": [
    {
     "name": "stdout",
     "output_type": "stream",
     "text": [
      "epoch #0\tmean reward = 13.760\tepsilon = 0.500\n",
      "epoch #1\tmean reward = 14.430\tepsilon = 0.495\n",
      "epoch #2\tmean reward = 13.560\tepsilon = 0.490\n",
      "epoch #3\tmean reward = 15.400\tepsilon = 0.485\n",
      "epoch #4\tmean reward = 13.250\tepsilon = 0.480\n",
      "epoch #5\tmean reward = 13.330\tepsilon = 0.475\n",
      "epoch #6\tmean reward = 17.130\tepsilon = 0.471\n",
      "epoch #7\tmean reward = 15.170\tepsilon = 0.466\n",
      "epoch #8\tmean reward = 14.570\tepsilon = 0.461\n",
      "epoch #9\tmean reward = 16.510\tepsilon = 0.457\n",
      "epoch #10\tmean reward = 19.540\tepsilon = 0.452\n",
      "epoch #11\tmean reward = 19.680\tepsilon = 0.448\n",
      "epoch #12\tmean reward = 21.190\tepsilon = 0.443\n",
      "epoch #13\tmean reward = 37.490\tepsilon = 0.439\n",
      "epoch #14\tmean reward = 51.190\tepsilon = 0.434\n",
      "epoch #15\tmean reward = 39.450\tepsilon = 0.430\n",
      "epoch #16\tmean reward = 58.290\tepsilon = 0.426\n",
      "epoch #17\tmean reward = 65.200\tepsilon = 0.421\n",
      "epoch #18\tmean reward = 104.810\tepsilon = 0.417\n",
      "epoch #19\tmean reward = 116.690\tepsilon = 0.413\n",
      "epoch #20\tmean reward = 138.890\tepsilon = 0.409\n",
      "epoch #21\tmean reward = 193.150\tepsilon = 0.405\n",
      "epoch #22\tmean reward = 192.030\tepsilon = 0.401\n",
      "epoch #23\tmean reward = 242.430\tepsilon = 0.397\n",
      "epoch #24\tmean reward = 199.610\tepsilon = 0.393\n",
      "epoch #25\tmean reward = 190.520\tepsilon = 0.389\n",
      "epoch #26\tmean reward = 249.810\tepsilon = 0.385\n",
      "epoch #27\tmean reward = 277.320\tepsilon = 0.381\n",
      "epoch #28\tmean reward = 338.830\tepsilon = 0.377\n",
      "You win!\n"
     ]
    }
   ],
   "source": [
    "for i in range(1000):\n",
    "    session_rewards = [generate_session(epsilon=epsilon, train=True) for _ in range(100)]\n",
    "    print('epoch #{}\\tmean reward = {:.3f}\\tepsilon = {:.3f}'.format(i,np.mean(session_rewards),epsilon))\n",
    "    \n",
    "    epsilon *=0.99\n",
    "    assert epsilon >= 1e-4, ' Make sure epsilon is always nonzero during training'\n",
    "    if np.mean(session_rewards) > 300:\n",
    "        print('You win!')\n",
    "        break"
   ]
  }
 ],
 "metadata": {
  "kernelspec": {
   "display_name": "Python 3",
   "language": "python",
   "name": "python3"
  },
  "language_info": {
   "codemirror_mode": {
    "name": "ipython",
    "version": 3
   },
   "file_extension": ".py",
   "mimetype": "text/x-python",
   "name": "python",
   "nbconvert_exporter": "python",
   "pygments_lexer": "ipython3",
   "version": "3.6.8"
  }
 },
 "nbformat": 4,
 "nbformat_minor": 2
}
